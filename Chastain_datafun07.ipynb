{
 "cells": [
  {
   "cell_type": "markdown",
   "id": "3e613201-53fb-4fc5-9bc5-8aabfc150044",
   "metadata": {},
   "source": [
    "# Part 1 - Chart a Straight Line"
   ]
  },
  {
   "cell_type": "markdown",
   "id": "9aff4e81-4a59-439f-bc57-1489ba78a7b7",
   "metadata": {},
   "source": [
    "## Introduction\n",
    "-- The following project explores how to perform linear regressions on data and use that information to create a predictive model."
   ]
  },
  {
   "cell_type": "markdown",
   "id": "8a724445-a3ff-4dde-b297-82931cc56f0d",
   "metadata": {},
   "source": [
    "## Imports"
   ]
  },
  {
   "cell_type": "code",
   "execution_count": 30,
   "id": "e7fb2918-b5f3-41a3-bb8f-76ca5efea032",
   "metadata": {},
   "outputs": [],
   "source": [
    "import jupyterlab\n",
    "import numpy as np\n",
    "import pandas as pd\n",
    "import matplotlib as mp\n",
    "import seaborn as sns\n",
    "import scipy"
   ]
  },
  {
   "cell_type": "markdown",
   "id": "d849c614-0575-4a9c-8066-fb1c8edf1db1",
   "metadata": {},
   "source": [
    "## Plotting Fahrenheit and Celsius Temperatures"
   ]
  },
  {
   "cell_type": "markdown",
   "id": "1ec000ba-ca59-496b-99c2-2b501afa0041",
   "metadata": {},
   "source": [
    "### Relationship Between Fahrenheit and Celsius"
   ]
  },
  {
   "cell_type": "code",
   "execution_count": 31,
   "id": "a044ad49-3ffb-4b45-8eee-ebdc606e107b",
   "metadata": {},
   "outputs": [],
   "source": [
    "c=lambda f:5/9*(f-32)"
   ]
  },
  {
   "cell_type": "code",
   "execution_count": 32,
   "id": "0e92dc6d-5f52-44e8-95f8-84ab3c56bdb5",
   "metadata": {},
   "outputs": [],
   "source": [
    "temps=[(f,c(f)) for f in range (0,101,10)]"
   ]
  },
  {
   "cell_type": "markdown",
   "id": "850a4f6a-4356-4c2c-b376-6f6e5e9be821",
   "metadata": {},
   "source": [
    "### Pulling and Investigating Temperature Data"
   ]
  },
  {
   "cell_type": "code",
   "execution_count": 33,
   "id": "4c0ff0c5-ba58-4690-a9e2-93e43f931624",
   "metadata": {},
   "outputs": [],
   "source": [
    "temps_df=pd.DataFrame(temps,columns=['Fahreneit','Celsius'])\n"
   ]
  },
  {
   "cell_type": "code",
   "execution_count": 34,
   "id": "193cf8a8-2b76-4193-b6cc-1dbae6195934",
   "metadata": {},
   "outputs": [
    {
     "data": {
      "text/plain": [
       "Index(['Fahreneit', 'Celsius'], dtype='object')"
      ]
     },
     "execution_count": 34,
     "metadata": {},
     "output_type": "execute_result"
    }
   ],
   "source": [
    "temps_df.columns"
   ]
  },
  {
   "cell_type": "code",
   "execution_count": 35,
   "id": "d32b2e8e-801b-45f5-b038-3be068de0b87",
   "metadata": {},
   "outputs": [
    {
     "data": {
      "text/html": [
       "<div>\n",
       "<style scoped>\n",
       "    .dataframe tbody tr th:only-of-type {\n",
       "        vertical-align: middle;\n",
       "    }\n",
       "\n",
       "    .dataframe tbody tr th {\n",
       "        vertical-align: top;\n",
       "    }\n",
       "\n",
       "    .dataframe thead th {\n",
       "        text-align: right;\n",
       "    }\n",
       "</style>\n",
       "<table border=\"1\" class=\"dataframe\">\n",
       "  <thead>\n",
       "    <tr style=\"text-align: right;\">\n",
       "      <th></th>\n",
       "      <th>Fahreneit</th>\n",
       "      <th>Celsius</th>\n",
       "    </tr>\n",
       "  </thead>\n",
       "  <tbody>\n",
       "    <tr>\n",
       "      <th>0</th>\n",
       "      <td>0</td>\n",
       "      <td>-17.78</td>\n",
       "    </tr>\n",
       "    <tr>\n",
       "      <th>1</th>\n",
       "      <td>10</td>\n",
       "      <td>-12.22</td>\n",
       "    </tr>\n",
       "    <tr>\n",
       "      <th>2</th>\n",
       "      <td>20</td>\n",
       "      <td>-6.67</td>\n",
       "    </tr>\n",
       "    <tr>\n",
       "      <th>3</th>\n",
       "      <td>30</td>\n",
       "      <td>-1.11</td>\n",
       "    </tr>\n",
       "    <tr>\n",
       "      <th>4</th>\n",
       "      <td>40</td>\n",
       "      <td>4.44</td>\n",
       "    </tr>\n",
       "  </tbody>\n",
       "</table>\n",
       "</div>"
      ],
      "text/plain": [
       "   Fahreneit  Celsius\n",
       "0          0   -17.78\n",
       "1         10   -12.22\n",
       "2         20    -6.67\n",
       "3         30    -1.11\n",
       "4         40     4.44"
      ]
     },
     "execution_count": 35,
     "metadata": {},
     "output_type": "execute_result"
    }
   ],
   "source": [
    "temps_df.head()"
   ]
  },
  {
   "cell_type": "markdown",
   "id": "df442a23-a041-479a-86ef-bf2998ef8fa0",
   "metadata": {},
   "source": [
    "### Graphing Temperature Data"
   ]
  },
  {
   "cell_type": "code",
   "execution_count": 36,
   "id": "3a2b40be-9f00-47c2-a66b-42a69f82172f",
   "metadata": {},
   "outputs": [
    {
     "data": {
      "image/png": "[encoded data removed]",
      "text/plain": [
       "<Figure size 640x480 with 1 Axes>"
      ]
     },
     "metadata": {},
     "output_type": "display_data"
    }
   ],
   "source": [
    "axes= temps_df.plot(x='Fahreneit', y='Celsius', style='.-')\n",
    "y_label=axes.set_ylabel('Celsius')"
   ]
  },
  {
   "cell_type": "markdown",
   "id": "eb93e5e3-bc21-400f-8d98-7f708eb7ab7a",
   "metadata": {},
   "source": [
    "## NOAA Weather Data"
   ]
  },
  {
   "cell_type": "markdown",
   "id": "331c92a2-d78a-4b6f-a443-5f8ff94a58a5",
   "metadata": {},
   "source": [
    "### Section 1- Data Aquisition"
   ]
  },
  {
   "cell_type": "code",
   "execution_count": 37,
   "id": "fdc46eed-a45f-4acd-b1d6-b8c473612fbf",
   "metadata": {},
   "outputs": [],
   "source": [
    "nyc=pd.read_csv('ave_hi_nyc_jan_1895-2018.csv')"
   ]
  },
  {
   "cell_type": "markdown",
   "id": "382abbf4-a2da-44cd-bfd0-2e95a1132a44",
   "metadata": {},
   "source": [
    "### Section 2- Data Inspection"
   ]
  },
  {
   "cell_type": "code",
   "execution_count": 38,
   "id": "d11e77de-5ad5-4fb9-beab-da2da10a6a80",
   "metadata": {},
   "outputs": [
    {
     "data": {
      "text/html": [
       "<div>\n",
       "<style scoped>\n",
       "    .dataframe tbody tr th:only-of-type {\n",
       "        vertical-align: middle;\n",
       "    }\n",
       "\n",
       "    .dataframe tbody tr th {\n",
       "        vertical-align: top;\n",
       "    }\n",
       "\n",
       "    .dataframe thead th {\n",
       "        text-align: right;\n",
       "    }\n",
       "</style>\n",
       "<table border=\"1\" class=\"dataframe\">\n",
       "  <thead>\n",
       "    <tr style=\"text-align: right;\">\n",
       "      <th></th>\n",
       "      <th>Date</th>\n",
       "      <th>Value</th>\n",
       "      <th>Anomaly</th>\n",
       "    </tr>\n",
       "  </thead>\n",
       "  <tbody>\n",
       "    <tr>\n",
       "      <th>0</th>\n",
       "      <td>189501</td>\n",
       "      <td>34.20</td>\n",
       "      <td>-3.20</td>\n",
       "    </tr>\n",
       "    <tr>\n",
       "      <th>1</th>\n",
       "      <td>189601</td>\n",
       "      <td>34.70</td>\n",
       "      <td>-2.70</td>\n",
       "    </tr>\n",
       "    <tr>\n",
       "      <th>2</th>\n",
       "      <td>189701</td>\n",
       "      <td>35.50</td>\n",
       "      <td>-1.90</td>\n",
       "    </tr>\n",
       "    <tr>\n",
       "      <th>3</th>\n",
       "      <td>189801</td>\n",
       "      <td>39.60</td>\n",
       "      <td>2.20</td>\n",
       "    </tr>\n",
       "    <tr>\n",
       "      <th>4</th>\n",
       "      <td>189901</td>\n",
       "      <td>36.40</td>\n",
       "      <td>-1.00</td>\n",
       "    </tr>\n",
       "  </tbody>\n",
       "</table>\n",
       "</div>"
      ],
      "text/plain": [
       "     Date  Value  Anomaly\n",
       "0  189501  34.20    -3.20\n",
       "1  189601  34.70    -2.70\n",
       "2  189701  35.50    -1.90\n",
       "3  189801  39.60     2.20\n",
       "4  189901  36.40    -1.00"
      ]
     },
     "execution_count": 38,
     "metadata": {},
     "output_type": "execute_result"
    }
   ],
   "source": [
    "nyc.head()"
   ]
  },
  {
   "cell_type": "code",
   "execution_count": 39,
   "id": "6cb917e5-e101-4fba-b56d-35c7a9349f5a",
   "metadata": {},
   "outputs": [
    {
     "data": {
      "text/html": [
       "<div>\n",
       "<style scoped>\n",
       "    .dataframe tbody tr th:only-of-type {\n",
       "        vertical-align: middle;\n",
       "    }\n",
       "\n",
       "    .dataframe tbody tr th {\n",
       "        vertical-align: top;\n",
       "    }\n",
       "\n",
       "    .dataframe thead th {\n",
       "        text-align: right;\n",
       "    }\n",
       "</style>\n",
       "<table border=\"1\" class=\"dataframe\">\n",
       "  <thead>\n",
       "    <tr style=\"text-align: right;\">\n",
       "      <th></th>\n",
       "      <th>Date</th>\n",
       "      <th>Value</th>\n",
       "      <th>Anomaly</th>\n",
       "    </tr>\n",
       "  </thead>\n",
       "  <tbody>\n",
       "    <tr>\n",
       "      <th>119</th>\n",
       "      <td>201401</td>\n",
       "      <td>35.50</td>\n",
       "      <td>-1.90</td>\n",
       "    </tr>\n",
       "    <tr>\n",
       "      <th>120</th>\n",
       "      <td>201501</td>\n",
       "      <td>36.10</td>\n",
       "      <td>-1.30</td>\n",
       "    </tr>\n",
       "    <tr>\n",
       "      <th>121</th>\n",
       "      <td>201601</td>\n",
       "      <td>40.80</td>\n",
       "      <td>3.40</td>\n",
       "    </tr>\n",
       "    <tr>\n",
       "      <th>122</th>\n",
       "      <td>201701</td>\n",
       "      <td>42.80</td>\n",
       "      <td>5.40</td>\n",
       "    </tr>\n",
       "    <tr>\n",
       "      <th>123</th>\n",
       "      <td>201801</td>\n",
       "      <td>38.70</td>\n",
       "      <td>1.30</td>\n",
       "    </tr>\n",
       "  </tbody>\n",
       "</table>\n",
       "</div>"
      ],
      "text/plain": [
       "       Date  Value  Anomaly\n",
       "119  201401  35.50    -1.90\n",
       "120  201501  36.10    -1.30\n",
       "121  201601  40.80     3.40\n",
       "122  201701  42.80     5.40\n",
       "123  201801  38.70     1.30"
      ]
     },
     "execution_count": 39,
     "metadata": {},
     "output_type": "execute_result"
    }
   ],
   "source": [
    "nyc.tail()"
   ]
  },
  {
   "cell_type": "markdown",
   "id": "ec7d1c00-4de6-41b1-b8ae-9e73e2ec6276",
   "metadata": {},
   "source": [
    "### Section 3- Data Cleaning"
   ]
  },
  {
   "cell_type": "code",
   "execution_count": 40,
   "id": "7278fb78-b181-4d7c-b27d-1390f36d47b8",
   "metadata": {},
   "outputs": [],
   "source": [
    "nyc.columns=['Date','Temperature','Anomaly']"
   ]
  },
  {
   "cell_type": "code",
   "execution_count": 41,
   "id": "311118ed-9ee9-46f7-a5be-f465a91d6031",
   "metadata": {},
   "outputs": [
    {
     "data": {
      "text/html": [
       "<div>\n",
       "<style scoped>\n",
       "    .dataframe tbody tr th:only-of-type {\n",
       "        vertical-align: middle;\n",
       "    }\n",
       "\n",
       "    .dataframe tbody tr th {\n",
       "        vertical-align: top;\n",
       "    }\n",
       "\n",
       "    .dataframe thead th {\n",
       "        text-align: right;\n",
       "    }\n",
       "</style>\n",
       "<table border=\"1\" class=\"dataframe\">\n",
       "  <thead>\n",
       "    <tr style=\"text-align: right;\">\n",
       "      <th></th>\n",
       "      <th>Date</th>\n",
       "      <th>Temperature</th>\n",
       "      <th>Anomaly</th>\n",
       "    </tr>\n",
       "  </thead>\n",
       "  <tbody>\n",
       "    <tr>\n",
       "      <th>0</th>\n",
       "      <td>189501</td>\n",
       "      <td>34.20</td>\n",
       "      <td>-3.20</td>\n",
       "    </tr>\n",
       "    <tr>\n",
       "      <th>1</th>\n",
       "      <td>189601</td>\n",
       "      <td>34.70</td>\n",
       "      <td>-2.70</td>\n",
       "    </tr>\n",
       "    <tr>\n",
       "      <th>2</th>\n",
       "      <td>189701</td>\n",
       "      <td>35.50</td>\n",
       "      <td>-1.90</td>\n",
       "    </tr>\n",
       "  </tbody>\n",
       "</table>\n",
       "</div>"
      ],
      "text/plain": [
       "     Date  Temperature  Anomaly\n",
       "0  189501        34.20    -3.20\n",
       "1  189601        34.70    -2.70\n",
       "2  189701        35.50    -1.90"
      ]
     },
     "execution_count": 41,
     "metadata": {},
     "output_type": "execute_result"
    }
   ],
   "source": [
    "nyc.head(3)"
   ]
  },
  {
   "cell_type": "code",
   "execution_count": 42,
   "id": "3e2149c5-ae05-4ca7-bf5e-056f53ebd699",
   "metadata": {},
   "outputs": [
    {
     "data": {
      "text/plain": [
       "dtype('int64')"
      ]
     },
     "execution_count": 42,
     "metadata": {},
     "output_type": "execute_result"
    }
   ],
   "source": [
    "nyc.Date.dtype"
   ]
  },
  {
   "cell_type": "code",
   "execution_count": 43,
   "id": "4f3bbe16-bcbf-4f01-b581-44620b023e98",
   "metadata": {},
   "outputs": [],
   "source": [
    "nyc.Date=nyc.Date.floordiv(100)"
   ]
  },
  {
   "cell_type": "code",
   "execution_count": 44,
   "id": "935df460-25fb-4a51-aebf-67d0614ee221",
   "metadata": {},
   "outputs": [
    {
     "data": {
      "text/html": [
       "<div>\n",
       "<style scoped>\n",
       "    .dataframe tbody tr th:only-of-type {\n",
       "        vertical-align: middle;\n",
       "    }\n",
       "\n",
       "    .dataframe tbody tr th {\n",
       "        vertical-align: top;\n",
       "    }\n",
       "\n",
       "    .dataframe thead th {\n",
       "        text-align: right;\n",
       "    }\n",
       "</style>\n",
       "<table border=\"1\" class=\"dataframe\">\n",
       "  <thead>\n",
       "    <tr style=\"text-align: right;\">\n",
       "      <th></th>\n",
       "      <th>Date</th>\n",
       "      <th>Temperature</th>\n",
       "      <th>Anomaly</th>\n",
       "    </tr>\n",
       "  </thead>\n",
       "  <tbody>\n",
       "    <tr>\n",
       "      <th>0</th>\n",
       "      <td>1895</td>\n",
       "      <td>34.20</td>\n",
       "      <td>-3.20</td>\n",
       "    </tr>\n",
       "    <tr>\n",
       "      <th>1</th>\n",
       "      <td>1896</td>\n",
       "      <td>34.70</td>\n",
       "      <td>-2.70</td>\n",
       "    </tr>\n",
       "    <tr>\n",
       "      <th>2</th>\n",
       "      <td>1897</td>\n",
       "      <td>35.50</td>\n",
       "      <td>-1.90</td>\n",
       "    </tr>\n",
       "  </tbody>\n",
       "</table>\n",
       "</div>"
      ],
      "text/plain": [
       "   Date  Temperature  Anomaly\n",
       "0  1895        34.20    -3.20\n",
       "1  1896        34.70    -2.70\n",
       "2  1897        35.50    -1.90"
      ]
     },
     "execution_count": 44,
     "metadata": {},
     "output_type": "execute_result"
    }
   ],
   "source": [
    "nyc.head(3)"
   ]
  },
  {
   "cell_type": "markdown",
   "id": "0c36db6f-9ed9-4a95-97b2-b9974366ada9",
   "metadata": {},
   "source": [
    "### Section 4- Descriptive Statistics"
   ]
  },
  {
   "cell_type": "code",
   "execution_count": 45,
   "id": "da5907d2-136a-4e44-a08c-126d47bc43c3",
   "metadata": {},
   "outputs": [],
   "source": [
    "pd.set_option('display.float_format', '{:.2f}'.format)"
   ]
  },
  {
   "cell_type": "code",
   "execution_count": 46,
   "id": "5f0f083c-334b-41fb-9230-21e522f4e4ce",
   "metadata": {},
   "outputs": [
    {
     "data": {
      "text/plain": [
       "count   124.00\n",
       "mean     37.60\n",
       "std       4.54\n",
       "min      26.10\n",
       "25%      34.58\n",
       "50%      37.60\n",
       "75%      40.60\n",
       "max      47.60\n",
       "Name: Temperature, dtype: float64"
      ]
     },
     "execution_count": 46,
     "metadata": {},
     "output_type": "execute_result"
    }
   ],
   "source": [
    "nyc.Temperature.describe()"
   ]
  },
  {
   "cell_type": "markdown",
   "id": "6373f0a1-8e21-4e33-8185-46961b7effe4",
   "metadata": {},
   "source": [
    "### Section 5- Build the Model"
   ]
  },
  {
   "cell_type": "code",
   "execution_count": 47,
   "id": "81e77285-5f2f-4fc9-add1-9378139af1fe",
   "metadata": {},
   "outputs": [],
   "source": [
    "from scipy import stats"
   ]
  },
  {
   "cell_type": "code",
   "execution_count": 48,
   "id": "9d30d2df-088c-44eb-a25c-4cc9db2314ed",
   "metadata": {},
   "outputs": [],
   "source": [
    "linear_regression=stats.linregress(x=nyc.Date,y=nyc.Temperature)"
   ]
  },
  {
   "cell_type": "code",
   "execution_count": 49,
   "id": "1a8fda32-65da-4ba1-9a52-e640db59cbdc",
   "metadata": {},
   "outputs": [
    {
     "data": {
      "text/plain": [
       "np.float64(0.014771361132966163)"
      ]
     },
     "execution_count": 49,
     "metadata": {},
     "output_type": "execute_result"
    }
   ],
   "source": [
    "linear_regression.slope"
   ]
  },
  {
   "cell_type": "code",
   "execution_count": 50,
   "id": "c08ff7f3-1809-43b9-adce-af454c2f55a9",
   "metadata": {},
   "outputs": [
    {
     "data": {
      "text/plain": [
       "np.float64(8.694993233674289)"
      ]
     },
     "execution_count": 50,
     "metadata": {},
     "output_type": "execute_result"
    }
   ],
   "source": [
    "linear_regression.intercept"
   ]
  },
  {
   "cell_type": "markdown",
   "id": "56a5a547-b927-4d75-9e82-12abdfdadaf6",
   "metadata": {},
   "source": [
    "### Section 6- Predict"
   ]
  },
  {
   "cell_type": "code",
   "execution_count": 51,
   "id": "333e5a28-a441-4938-92c5-c012a29ea6eb",
   "metadata": {},
   "outputs": [
    {
     "data": {
      "text/plain": [
       "np.float64(38.5922281667978)"
      ]
     },
     "execution_count": 51,
     "metadata": {},
     "output_type": "execute_result"
    }
   ],
   "source": [
    "linear_regression.slope*2024+linear_regression.intercept"
   ]
  },
  {
   "cell_type": "code",
   "execution_count": 52,
   "id": "aa8b8618-c800-41a5-87fc-6e966b6562cb",
   "metadata": {},
   "outputs": [
    {
     "data": {
      "text/plain": [
       "np.float64(36.612865774980335)"
      ]
     },
     "execution_count": 52,
     "metadata": {},
     "output_type": "execute_result"
    }
   ],
   "source": [
    "linear_regression.slope*1890+linear_regression.intercept"
   ]
  },
  {
   "cell_type": "code",
   "execution_count": 53,
   "id": "04432303-f05d-445d-b488-6d06f66c0549",
   "metadata": {},
   "outputs": [],
   "source": [
    "sns.set_style('whitegrid')"
   ]
  },
  {
   "cell_type": "code",
   "execution_count": 54,
   "id": "8b77577e-f415-4ccd-a079-655411e09e19",
   "metadata": {},
   "outputs": [
    {
     "data": {
      "text/plain": [
       "(10.0, 70.0)"
      ]
     },
     "execution_count": 54,
     "metadata": {},
     "output_type": "execute_result"
    },
    {
     "data": {
      "image/png": "[encoded data removed]",
      "text/plain": [
       "<Figure size 640x480 with 1 Axes>"
      ]
     },
     "metadata": {},
     "output_type": "display_data"
    }
   ],
   "source": [
    "axes=sns.regplot(x=nyc.Date,y=nyc.Temperature)\n",
    "axes.set_ylim(10,70)"
   ]
  },
  {
   "cell_type": "code",
   "execution_count": null,
   "id": "18ab5d72-b193-4716-99b3-abab4171b50c",
   "metadata": {},
   "outputs": [],
   "source": []
  }
 ],
 "metadata": {
  "kernelspec": {
   "display_name": "Python 3 (ipykernel)",
   "language": "python",
   "name": "python3"
  },
  "language_info": {
   "codemirror_mode": {
    "name": "ipython",
    "version": 3
   },
   "file_extension": ".py",
   "mimetype": "text/x-python",
   "name": "python",
   "nbconvert_exporter": "python",
   "pygments_lexer": "ipython3",
   "version": "3.13.2"
  }
 },
 "nbformat": 4,
 "nbformat_minor": 5
}
